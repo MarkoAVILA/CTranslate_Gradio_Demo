{
 "cells": [
  {
   "cell_type": "code",
   "execution_count": 8,
   "metadata": {},
   "outputs": [
    {
     "name": "stdout",
     "output_type": "stream",
     "text": [
      "dict_values(['FLORES-101 code', 'afr', 'amh', 'ara', 'asm', 'ast', 'azj', 'bel', 'ben', 'bos', 'bul', 'cat', 'ceb', 'ces', 'ckb', 'cym', 'dan', 'deu', 'ell', 'eng', 'est', 'fin', 'fra', 'ful', 'gle', 'glg', 'guj', 'hau', 'heb', 'hin', 'hrv', 'hun', 'hye', 'ibo', 'ind', 'isl', 'ita', 'jav', 'jpn', 'kam', 'kan', 'kat', 'kaz', 'khm', 'kir', 'kor', 'lao', 'Latvian', 'kea', 'lin', 'lit', 'ltz', 'lug', 'luo', 'lav', 'mal', 'mar', 'mkd', 'mlt', 'mon', 'mri', 'mya', 'nld', 'nob', 'npi', 'nso', 'nya', 'oci', 'orm', 'ory', 'pan', 'fas', 'pol', 'por', 'pus', 'ron', 'rus', 'slk', 'sna', 'snd', 'som', 'spa', 'srp', 'swe', 'swh', 'tam', 'tel', 'tgk', 'tgl', 'tha', 'tur', 'ukr', 'umb', 'urd', 'uzb', 'vie', 'wol', 'xho', 'yor', 'zho_simpl', 'zho_trad', 'msa', 'zul'])\n",
      "dict_keys(['FLORES-200 code', 'afr_Latn', 'amh_Ethi', 'arb_Arab', 'asm_Beng', 'ast_Latn', 'azj_Latn', 'bel_Cyrl', 'ben_Beng', 'bos_Latn', 'bul_Cyrl', 'cat_Latn', 'ceb_Latn', 'ces_Latn', 'ckb_Arab', 'cym_Latn', 'dan_Latn', 'deu_Latn', 'ell_Grek', 'eng_Latn', 'est_Latn', 'fin_Latn', 'fra_Latn', 'fuv_Latn', 'gle_Latn', 'glg_Latn', 'guj_Gujr', 'hau_Latn', 'heb_Hebr', 'hin_Deva', 'hrv_Latn', 'hun_Latn', 'hye_Armn', 'ibo_Latn', 'ind_Latn', 'isl_Latn', 'ita_Latn', 'jav_Latn', 'jpn_Jpan', 'kam_Latn', 'kan_Knda', 'kat_Geor', 'kaz_Cyrl', 'khm_Khmr', 'kir_Cyrl', 'kor_Hang', 'lao_Laoo', 'lij_Latn', 'lim_Latn', 'lin_Latn', 'lit_Latn', 'ltz_Latn', 'lug_Latn', 'luo_Latn', 'lvs_Latn', 'mal_Mlym', 'mar_Deva', 'mkd_Cyrl', 'mlt_Latn', 'khk_Cyrl', 'mri_Latn', 'mya_Mymr', 'nld_Latn', 'nob_Latn', 'npi_Deva', 'nso_Latn', 'nya_Latn', 'oci_Latn', 'gaz_Latn', 'ory_Orya', 'pan_Guru', 'pes_Arab', 'pol_Latn', 'por_Latn', 'pbt_Arab', 'ron_Latn', 'rus_Cyrl', 'slk_Latn', 'sna_Latn', 'snd_Arab', 'som_Latn', 'spa_Latn', 'srp_Cyrl', 'swe_Latn', 'swh_Latn', 'tam_Taml', 'tel_Telu', 'tgk_Cyrl', 'tgl_Latn', 'tha_Thai', 'tur_Latn', 'ukr_Cyrl', 'umb_Latn', 'urd_Arab', 'uzn_Latn', 'vie_Latn', 'wol_Latn', 'xho_Latn', 'yor_Latn', 'zho_Hans', 'zho_Hant', 'zsm_Latn', 'zul_Latn'])\n"
     ]
    }
   ],
   "source": [
    "import json\n",
    "\n",
    "dict_langues_code = json.load(open(\"langues.json\"))\n",
    "l_langues, l_code = dict_langues_code.values(), dict_langues_code.keys()\n",
    "print(l_langues)\n",
    "print(l_code)"
   ]
  },
  {
   "cell_type": "code",
   "execution_count": 14,
   "metadata": {},
   "outputs": [
    {
     "data": {
      "text/html": [
       "<div>\n",
       "<style scoped>\n",
       "    .dataframe tbody tr th:only-of-type {\n",
       "        vertical-align: middle;\n",
       "    }\n",
       "\n",
       "    .dataframe tbody tr th {\n",
       "        vertical-align: top;\n",
       "    }\n",
       "\n",
       "    .dataframe thead th {\n",
       "        text-align: right;\n",
       "    }\n",
       "</style>\n",
       "<table border=\"1\" class=\"dataframe\">\n",
       "  <thead>\n",
       "    <tr style=\"text-align: right;\">\n",
       "      <th></th>\n",
       "      <th>langues</th>\n",
       "      <th>code</th>\n",
       "    </tr>\n",
       "  </thead>\n",
       "  <tbody>\n",
       "    <tr>\n",
       "      <th>0</th>\n",
       "      <td>FLORES-101 code</td>\n",
       "      <td>FLORES-200 code</td>\n",
       "    </tr>\n",
       "    <tr>\n",
       "      <th>1</th>\n",
       "      <td>afr</td>\n",
       "      <td>afr_Latn</td>\n",
       "    </tr>\n",
       "    <tr>\n",
       "      <th>2</th>\n",
       "      <td>amh</td>\n",
       "      <td>amh_Ethi</td>\n",
       "    </tr>\n",
       "    <tr>\n",
       "      <th>3</th>\n",
       "      <td>ara</td>\n",
       "      <td>arb_Arab</td>\n",
       "    </tr>\n",
       "    <tr>\n",
       "      <th>4</th>\n",
       "      <td>asm</td>\n",
       "      <td>asm_Beng</td>\n",
       "    </tr>\n",
       "    <tr>\n",
       "      <th>...</th>\n",
       "      <td>...</td>\n",
       "      <td>...</td>\n",
       "    </tr>\n",
       "    <tr>\n",
       "      <th>98</th>\n",
       "      <td>yor</td>\n",
       "      <td>yor_Latn</td>\n",
       "    </tr>\n",
       "    <tr>\n",
       "      <th>99</th>\n",
       "      <td>zho_simpl</td>\n",
       "      <td>zho_Hans</td>\n",
       "    </tr>\n",
       "    <tr>\n",
       "      <th>100</th>\n",
       "      <td>zho_trad</td>\n",
       "      <td>zho_Hant</td>\n",
       "    </tr>\n",
       "    <tr>\n",
       "      <th>101</th>\n",
       "      <td>msa</td>\n",
       "      <td>zsm_Latn</td>\n",
       "    </tr>\n",
       "    <tr>\n",
       "      <th>102</th>\n",
       "      <td>zul</td>\n",
       "      <td>zul_Latn</td>\n",
       "    </tr>\n",
       "  </tbody>\n",
       "</table>\n",
       "<p>103 rows × 2 columns</p>\n",
       "</div>"
      ],
      "text/plain": [
       "             langues             code\n",
       "0    FLORES-101 code  FLORES-200 code\n",
       "1                afr         afr_Latn\n",
       "2                amh         amh_Ethi\n",
       "3                ara         arb_Arab\n",
       "4                asm         asm_Beng\n",
       "..               ...              ...\n",
       "98               yor         yor_Latn\n",
       "99         zho_simpl         zho_Hans\n",
       "100         zho_trad         zho_Hant\n",
       "101              msa         zsm_Latn\n",
       "102              zul         zul_Latn\n",
       "\n",
       "[103 rows x 2 columns]"
      ]
     },
     "execution_count": 14,
     "metadata": {},
     "output_type": "execute_result"
    }
   ],
   "source": [
    "import pandas as pd\n",
    "df = pd.DataFrame({\"langues\": l_langues, \"code\": l_code})\n",
    "df"
   ]
  },
  {
   "cell_type": "code",
   "execution_count": 15,
   "metadata": {},
   "outputs": [
    {
     "name": "stdout",
     "output_type": "stream",
     "text": [
      "['afr', 'amh', 'ara', 'asm', 'ast', 'azj', 'bel', 'ben', 'bos', 'bul', 'cat', 'ceb', 'ces', 'ckb', 'cym', 'dan', 'deu', 'ell', 'eng', 'est', 'fin', 'fra', 'ful', 'gle', 'glg', 'guj', 'hau', 'heb', 'hin', 'hrv', 'hun', 'hye', 'ibo', 'ind', 'isl', 'ita', 'jav', 'jpn', 'kam', 'kan', 'kat', 'kaz', 'khm', 'kir', 'kor', 'lao', 'Latvian', 'kea', 'lin', 'lit', 'ltz', 'lug', 'luo', 'lav', 'mal', 'mar', 'mkd', 'mlt', 'mon', 'mri', 'mya', 'nld', 'nob', 'npi', 'nso', 'nya', 'oci', 'orm', 'ory', 'pan', 'fas', 'pol', 'por', 'pus', 'ron', 'rus', 'slk', 'sna', 'snd', 'som', 'spa', 'srp', 'swe', 'swh', 'tam', 'tel', 'tgk', 'tgl', 'tha', 'tur', 'ukr', 'umb', 'urd', 'uzb', 'vie', 'wol', 'xho', 'yor', 'zho_simpl', 'zho_trad', 'msa', 'zul']\n",
      "['afr_Latn', 'amh_Ethi', 'arb_Arab', 'asm_Beng', 'ast_Latn', 'azj_Latn', 'bel_Cyrl', 'ben_Beng', 'bos_Latn', 'bul_Cyrl', 'cat_Latn', 'ceb_Latn', 'ces_Latn', 'ckb_Arab', 'cym_Latn', 'dan_Latn', 'deu_Latn', 'ell_Grek', 'eng_Latn', 'est_Latn', 'fin_Latn', 'fra_Latn', 'fuv_Latn', 'gle_Latn', 'glg_Latn', 'guj_Gujr', 'hau_Latn', 'heb_Hebr', 'hin_Deva', 'hrv_Latn', 'hun_Latn', 'hye_Armn', 'ibo_Latn', 'ind_Latn', 'isl_Latn', 'ita_Latn', 'jav_Latn', 'jpn_Jpan', 'kam_Latn', 'kan_Knda', 'kat_Geor', 'kaz_Cyrl', 'khm_Khmr', 'kir_Cyrl', 'kor_Hang', 'lao_Laoo', 'lij_Latn', 'lim_Latn', 'lin_Latn', 'lit_Latn', 'ltz_Latn', 'lug_Latn', 'luo_Latn', 'lvs_Latn', 'mal_Mlym', 'mar_Deva', 'mkd_Cyrl', 'mlt_Latn', 'khk_Cyrl', 'mri_Latn', 'mya_Mymr', 'nld_Latn', 'nob_Latn', 'npi_Deva', 'nso_Latn', 'nya_Latn', 'oci_Latn', 'gaz_Latn', 'ory_Orya', 'pan_Guru', 'pes_Arab', 'pol_Latn', 'por_Latn', 'pbt_Arab', 'ron_Latn', 'rus_Cyrl', 'slk_Latn', 'sna_Latn', 'snd_Arab', 'som_Latn', 'spa_Latn', 'srp_Cyrl', 'swe_Latn', 'swh_Latn', 'tam_Taml', 'tel_Telu', 'tgk_Cyrl', 'tgl_Latn', 'tha_Thai', 'tur_Latn', 'ukr_Cyrl', 'umb_Latn', 'urd_Arab', 'uzn_Latn', 'vie_Latn', 'wol_Latn', 'xho_Latn', 'yor_Latn', 'zho_Hans', 'zho_Hant', 'zsm_Latn', 'zul_Latn']\n"
     ]
    }
   ],
   "source": [
    "langues = df.langues.to_list()[1:]\n",
    "code = df.code.to_list()[1:]\n",
    "print(langues)\n",
    "print(code)"
   ]
  },
  {
   "cell_type": "code",
   "execution_count": 16,
   "metadata": {},
   "outputs": [
    {
     "name": "stdout",
     "output_type": "stream",
     "text": [
      "['afr', 'amh', 'ara', 'asm', 'ast', 'azj', 'bel', 'ben', 'bos', 'bul', 'cat', 'ceb', 'ces', 'ckb', 'cym', 'dan', 'deu', 'ell', 'eng', 'est', 'fin', 'fra', 'ful', 'gle', 'glg', 'guj', 'hau', 'heb', 'hin', 'hrv', 'hun', 'hye', 'ibo', 'ind', 'isl', 'ita', 'jav', 'jpn', 'kam', 'kan', 'kat', 'kaz', 'khm', 'kir', 'kor', 'lao', 'Latvian', 'kea', 'lin', 'lit', 'ltz', 'lug', 'luo', 'lav', 'mal', 'mar', 'mkd', 'mlt', 'mon', 'mri', 'mya', 'nld', 'nob', 'npi', 'nso', 'nya', 'oci', 'orm', 'ory', 'pan', 'fas', 'pol', 'por', 'pus', 'ron', 'rus', 'slk', 'sna', 'snd', 'som', 'spa', 'srp', 'swe', 'swh', 'tam', 'tel', 'tgk', 'tgl', 'tha', 'tur', 'ukr', 'umb', 'urd', 'uzb', 'vie', 'wol', 'xho', 'yor', 'zho_simpl', 'zho_trad', 'msa', 'zul']\n",
      "['afr_Latn', 'amh_Ethi', 'arb_Arab', 'asm_Beng', 'ast_Latn', 'azj_Latn', 'bel_Cyrl', 'ben_Beng', 'bos_Latn', 'bul_Cyrl', 'cat_Latn', 'ceb_Latn', 'ces_Latn', 'ckb_Arab', 'cym_Latn', 'dan_Latn', 'deu_Latn', 'ell_Grek', 'eng_Latn', 'est_Latn', 'fin_Latn', 'fra_Latn', 'fuv_Latn', 'gle_Latn', 'glg_Latn', 'guj_Gujr', 'hau_Latn', 'heb_Hebr', 'hin_Deva', 'hrv_Latn', 'hun_Latn', 'hye_Armn', 'ibo_Latn', 'ind_Latn', 'isl_Latn', 'ita_Latn', 'jav_Latn', 'jpn_Jpan', 'kam_Latn', 'kan_Knda', 'kat_Geor', 'kaz_Cyrl', 'khm_Khmr', 'kir_Cyrl', 'kor_Hang', 'lao_Laoo', 'lij_Latn', 'lim_Latn', 'lin_Latn', 'lit_Latn', 'ltz_Latn', 'lug_Latn', 'luo_Latn', 'lvs_Latn', 'mal_Mlym', 'mar_Deva', 'mkd_Cyrl', 'mlt_Latn', 'khk_Cyrl', 'mri_Latn', 'mya_Mymr', 'nld_Latn', 'nob_Latn', 'npi_Deva', 'nso_Latn', 'nya_Latn', 'oci_Latn', 'gaz_Latn', 'ory_Orya', 'pan_Guru', 'pes_Arab', 'pol_Latn', 'por_Latn', 'pbt_Arab', 'ron_Latn', 'rus_Cyrl', 'slk_Latn', 'sna_Latn', 'snd_Arab', 'som_Latn', 'spa_Latn', 'srp_Cyrl', 'swe_Latn', 'swh_Latn', 'tam_Taml', 'tel_Telu', 'tgk_Cyrl', 'tgl_Latn', 'tha_Thai', 'tur_Latn', 'ukr_Cyrl', 'umb_Latn', 'urd_Arab', 'uzn_Latn', 'vie_Latn', 'wol_Latn', 'xho_Latn', 'yor_Latn', 'zho_Hans', 'zho_Hant', 'zsm_Latn', 'zul_Latn']\n"
     ]
    }
   ],
   "source": [
    "def get_langues_code(file_langues):\n",
    "    dict_langues_code = json.load(open(\"langues.json\"))\n",
    "    l_langues, l_code = dict_langues_code.values(), dict_langues_code.keys()\n",
    "    df = pd.DataFrame({\"langues\": l_langues, \"code\": l_code})\n",
    "    langues = df.langues.to_list()[1:]\n",
    "    code = df.code.to_list()[1:]\n",
    "    return langues, code\n",
    "\n",
    "l, c = get_langues_code(\"langues.json\")   \n",
    "print(l)\n",
    "print(c) "
   ]
  }
 ],
 "metadata": {
  "kernelspec": {
   "display_name": "exemple",
   "language": "python",
   "name": "python3"
  },
  "language_info": {
   "codemirror_mode": {
    "name": "ipython",
    "version": 3
   },
   "file_extension": ".py",
   "mimetype": "text/x-python",
   "name": "python",
   "nbconvert_exporter": "python",
   "pygments_lexer": "ipython3",
   "version": "3.8.10"
  },
  "orig_nbformat": 4
 },
 "nbformat": 4,
 "nbformat_minor": 2
}
