{
 "cells": [
  {
   "cell_type": "code",
   "execution_count": 16,
   "metadata": {},
   "outputs": [
    {
     "name": "stdout",
     "output_type": "stream",
     "text": [
      "dict_values(['FLORES-101 code', 'afr', 'amh', 'ara', 'asm', 'ast', 'azj', 'bel', 'ben', 'bos', 'bul', 'cat', 'ceb', 'ces', 'ckb', 'cym', 'dan', 'deu', 'ell', 'eng', 'est', 'fin', 'fra', 'ful', 'gle', 'glg', 'guj', 'hau', 'heb', 'hin', 'hrv', 'hun', 'hye', 'ibo', 'ind', 'isl', 'ita', 'jav', 'jpn', 'kam', 'kan', 'kat', 'kaz', 'khm', 'kir', 'kor', 'lao', 'Latvian', 'kea', 'lin', 'lit', 'ltz', 'lug', 'luo', 'lav', 'mal', 'mar', 'mkd', 'mlt', 'mon', 'mri', 'mya', 'nld', 'nob', 'npi', 'nso', 'nya', 'oci', 'orm', 'ory', 'pan', 'fas', 'pol', 'por', 'pus', 'ron', 'rus', 'slk', 'sna', 'snd', 'som', 'spa', 'srp', 'swe', 'swh', 'tam', 'tel', 'tgk', 'tgl', 'tha', 'tur', 'ukr', 'umb', 'urd', 'uzb', 'vie', 'wol', 'xho', 'yor', 'zho_simpl', 'zho_trad', 'msa', 'zul'])\n",
      "dict_keys(['FLORES-200 code', 'afr_Latn', 'amh_Ethi', 'arb_Arab', 'asm_Beng', 'ast_Latn', 'azj_Latn', 'bel_Cyrl', 'ben_Beng', 'bos_Latn', 'bul_Cyrl', 'cat_Latn', 'ceb_Latn', 'ces_Latn', 'ckb_Arab', 'cym_Latn', 'dan_Latn', 'deu_Latn', 'ell_Grek', 'eng_Latn', 'est_Latn', 'fin_Latn', 'fra_Latn', 'fuv_Latn', 'gle_Latn', 'glg_Latn', 'guj_Gujr', 'hau_Latn', 'heb_Hebr', 'hin_Deva', 'hrv_Latn', 'hun_Latn', 'hye_Armn', 'ibo_Latn', 'ind_Latn', 'isl_Latn', 'ita_Latn', 'jav_Latn', 'jpn_Jpan', 'kam_Latn', 'kan_Knda', 'kat_Geor', 'kaz_Cyrl', 'khm_Khmr', 'kir_Cyrl', 'kor_Hang', 'lao_Laoo', 'lij_Latn', 'lim_Latn', 'lin_Latn', 'lit_Latn', 'ltz_Latn', 'lug_Latn', 'luo_Latn', 'lvs_Latn', 'mal_Mlym', 'mar_Deva', 'mkd_Cyrl', 'mlt_Latn', 'khk_Cyrl', 'mri_Latn', 'mya_Mymr', 'nld_Latn', 'nob_Latn', 'npi_Deva', 'nso_Latn', 'nya_Latn', 'oci_Latn', 'gaz_Latn', 'ory_Orya', 'pan_Guru', 'pes_Arab', 'pol_Latn', 'por_Latn', 'pbt_Arab', 'ron_Latn', 'rus_Cyrl', 'slk_Latn', 'sna_Latn', 'snd_Arab', 'som_Latn', 'spa_Latn', 'srp_Cyrl', 'swe_Latn', 'swh_Latn', 'tam_Taml', 'tel_Telu', 'tgk_Cyrl', 'tgl_Latn', 'tha_Thai', 'tur_Latn', 'ukr_Cyrl', 'umb_Latn', 'urd_Arab', 'uzn_Latn', 'vie_Latn', 'wol_Latn', 'xho_Latn', 'yor_Latn', 'zho_Hans', 'zho_Hant', 'zsm_Latn', 'zul_Latn'])\n"
     ]
    }
   ],
   "source": [
    "import json\n",
    "\n",
    "dict_langues_code = json.load(open(\"langues_101.json\"))\n",
    "l_langues, l_code = dict_langues_code.values(), dict_langues_code.keys()\n",
    "print(l_langues)\n",
    "print(l_code)"
   ]
  },
  {
   "cell_type": "code",
   "execution_count": 17,
   "metadata": {},
   "outputs": [
    {
     "data": {
      "text/html": [
       "<div>\n",
       "<style scoped>\n",
       "    .dataframe tbody tr th:only-of-type {\n",
       "        vertical-align: middle;\n",
       "    }\n",
       "\n",
       "    .dataframe tbody tr th {\n",
       "        vertical-align: top;\n",
       "    }\n",
       "\n",
       "    .dataframe thead th {\n",
       "        text-align: right;\n",
       "    }\n",
       "</style>\n",
       "<table border=\"1\" class=\"dataframe\">\n",
       "  <thead>\n",
       "    <tr style=\"text-align: right;\">\n",
       "      <th></th>\n",
       "      <th>langues</th>\n",
       "      <th>code</th>\n",
       "    </tr>\n",
       "  </thead>\n",
       "  <tbody>\n",
       "    <tr>\n",
       "      <th>0</th>\n",
       "      <td>FLORES-101 code</td>\n",
       "      <td>FLORES-200 code</td>\n",
       "    </tr>\n",
       "    <tr>\n",
       "      <th>1</th>\n",
       "      <td>afr</td>\n",
       "      <td>afr_Latn</td>\n",
       "    </tr>\n",
       "    <tr>\n",
       "      <th>2</th>\n",
       "      <td>amh</td>\n",
       "      <td>amh_Ethi</td>\n",
       "    </tr>\n",
       "    <tr>\n",
       "      <th>3</th>\n",
       "      <td>ara</td>\n",
       "      <td>arb_Arab</td>\n",
       "    </tr>\n",
       "    <tr>\n",
       "      <th>4</th>\n",
       "      <td>asm</td>\n",
       "      <td>asm_Beng</td>\n",
       "    </tr>\n",
       "    <tr>\n",
       "      <th>...</th>\n",
       "      <td>...</td>\n",
       "      <td>...</td>\n",
       "    </tr>\n",
       "    <tr>\n",
       "      <th>98</th>\n",
       "      <td>yor</td>\n",
       "      <td>yor_Latn</td>\n",
       "    </tr>\n",
       "    <tr>\n",
       "      <th>99</th>\n",
       "      <td>zho_simpl</td>\n",
       "      <td>zho_Hans</td>\n",
       "    </tr>\n",
       "    <tr>\n",
       "      <th>100</th>\n",
       "      <td>zho_trad</td>\n",
       "      <td>zho_Hant</td>\n",
       "    </tr>\n",
       "    <tr>\n",
       "      <th>101</th>\n",
       "      <td>msa</td>\n",
       "      <td>zsm_Latn</td>\n",
       "    </tr>\n",
       "    <tr>\n",
       "      <th>102</th>\n",
       "      <td>zul</td>\n",
       "      <td>zul_Latn</td>\n",
       "    </tr>\n",
       "  </tbody>\n",
       "</table>\n",
       "<p>103 rows × 2 columns</p>\n",
       "</div>"
      ],
      "text/plain": [
       "             langues             code\n",
       "0    FLORES-101 code  FLORES-200 code\n",
       "1                afr         afr_Latn\n",
       "2                amh         amh_Ethi\n",
       "3                ara         arb_Arab\n",
       "4                asm         asm_Beng\n",
       "..               ...              ...\n",
       "98               yor         yor_Latn\n",
       "99         zho_simpl         zho_Hans\n",
       "100         zho_trad         zho_Hant\n",
       "101              msa         zsm_Latn\n",
       "102              zul         zul_Latn\n",
       "\n",
       "[103 rows x 2 columns]"
      ]
     },
     "execution_count": 17,
     "metadata": {},
     "output_type": "execute_result"
    }
   ],
   "source": [
    "import pandas as pd\n",
    "df = pd.DataFrame({\"langues\": l_langues, \"code\": l_code})\n",
    "df"
   ]
  },
  {
   "cell_type": "code",
   "execution_count": 18,
   "metadata": {},
   "outputs": [
    {
     "name": "stdout",
     "output_type": "stream",
     "text": [
      "['afr', 'amh', 'ara', 'asm', 'ast', 'azj', 'bel', 'ben', 'bos', 'bul', 'cat', 'ceb', 'ces', 'ckb', 'cym', 'dan', 'deu', 'ell', 'eng', 'est', 'fin', 'fra', 'ful', 'gle', 'glg', 'guj', 'hau', 'heb', 'hin', 'hrv', 'hun', 'hye', 'ibo', 'ind', 'isl', 'ita', 'jav', 'jpn', 'kam', 'kan', 'kat', 'kaz', 'khm', 'kir', 'kor', 'lao', 'Latvian', 'kea', 'lin', 'lit', 'ltz', 'lug', 'luo', 'lav', 'mal', 'mar', 'mkd', 'mlt', 'mon', 'mri', 'mya', 'nld', 'nob', 'npi', 'nso', 'nya', 'oci', 'orm', 'ory', 'pan', 'fas', 'pol', 'por', 'pus', 'ron', 'rus', 'slk', 'sna', 'snd', 'som', 'spa', 'srp', 'swe', 'swh', 'tam', 'tel', 'tgk', 'tgl', 'tha', 'tur', 'ukr', 'umb', 'urd', 'uzb', 'vie', 'wol', 'xho', 'yor', 'zho_simpl', 'zho_trad', 'msa', 'zul']\n",
      "102\n",
      "['afr_Latn', 'amh_Ethi', 'arb_Arab', 'asm_Beng', 'ast_Latn', 'azj_Latn', 'bel_Cyrl', 'ben_Beng', 'bos_Latn', 'bul_Cyrl', 'cat_Latn', 'ceb_Latn', 'ces_Latn', 'ckb_Arab', 'cym_Latn', 'dan_Latn', 'deu_Latn', 'ell_Grek', 'eng_Latn', 'est_Latn', 'fin_Latn', 'fra_Latn', 'fuv_Latn', 'gle_Latn', 'glg_Latn', 'guj_Gujr', 'hau_Latn', 'heb_Hebr', 'hin_Deva', 'hrv_Latn', 'hun_Latn', 'hye_Armn', 'ibo_Latn', 'ind_Latn', 'isl_Latn', 'ita_Latn', 'jav_Latn', 'jpn_Jpan', 'kam_Latn', 'kan_Knda', 'kat_Geor', 'kaz_Cyrl', 'khm_Khmr', 'kir_Cyrl', 'kor_Hang', 'lao_Laoo', 'lij_Latn', 'lim_Latn', 'lin_Latn', 'lit_Latn', 'ltz_Latn', 'lug_Latn', 'luo_Latn', 'lvs_Latn', 'mal_Mlym', 'mar_Deva', 'mkd_Cyrl', 'mlt_Latn', 'khk_Cyrl', 'mri_Latn', 'mya_Mymr', 'nld_Latn', 'nob_Latn', 'npi_Deva', 'nso_Latn', 'nya_Latn', 'oci_Latn', 'gaz_Latn', 'ory_Orya', 'pan_Guru', 'pes_Arab', 'pol_Latn', 'por_Latn', 'pbt_Arab', 'ron_Latn', 'rus_Cyrl', 'slk_Latn', 'sna_Latn', 'snd_Arab', 'som_Latn', 'spa_Latn', 'srp_Cyrl', 'swe_Latn', 'swh_Latn', 'tam_Taml', 'tel_Telu', 'tgk_Cyrl', 'tgl_Latn', 'tha_Thai', 'tur_Latn', 'ukr_Cyrl', 'umb_Latn', 'urd_Arab', 'uzn_Latn', 'vie_Latn', 'wol_Latn', 'xho_Latn', 'yor_Latn', 'zho_Hans', 'zho_Hant', 'zsm_Latn', 'zul_Latn']\n",
      "102\n"
     ]
    }
   ],
   "source": [
    "langues_101 = df.langues.to_list()[1:]\n",
    "code_101 = df.code.to_list()[1:]\n",
    "print(langues_101)\n",
    "print(len(langues_101))\n",
    "print(code_101)\n",
    "print(len(code_101))"
   ]
  },
  {
   "cell_type": "code",
   "execution_count": 19,
   "metadata": {},
   "outputs": [
    {
     "name": "stdout",
     "output_type": "stream",
     "text": [
      "['afr', 'amh', 'ara', 'asm', 'ast', 'azj', 'bel', 'ben', 'bos', 'bul', 'cat', 'ceb', 'ces', 'ckb', 'cym', 'dan', 'deu', 'ell', 'eng', 'est', 'fin', 'fra', 'ful', 'gle', 'glg', 'guj', 'hau', 'heb', 'hin', 'hrv', 'hun', 'hye', 'ibo', 'ind', 'isl', 'ita', 'jav', 'jpn', 'kam', 'kan', 'kat', 'kaz', 'khm', 'kir', 'kor', 'lao', 'Latvian', 'kea', 'lin', 'lit', 'ltz', 'lug', 'luo', 'lav', 'mal', 'mar', 'mkd', 'mlt', 'mon', 'mri', 'mya', 'nld', 'nob', 'npi', 'nso', 'nya', 'oci', 'orm', 'ory', 'pan', 'fas', 'pol', 'por', 'pus', 'ron', 'rus', 'slk', 'sna', 'snd', 'som', 'spa', 'srp', 'swe', 'swh', 'tam', 'tel', 'tgk', 'tgl', 'tha', 'tur', 'ukr', 'umb', 'urd', 'uzb', 'vie', 'wol', 'xho', 'yor', 'zho_simpl', 'zho_trad', 'msa', 'zul']\n",
      "102\n",
      "['afr_Latn', 'amh_Ethi', 'arb_Arab', 'asm_Beng', 'ast_Latn', 'azj_Latn', 'bel_Cyrl', 'ben_Beng', 'bos_Latn', 'bul_Cyrl', 'cat_Latn', 'ceb_Latn', 'ces_Latn', 'ckb_Arab', 'cym_Latn', 'dan_Latn', 'deu_Latn', 'ell_Grek', 'eng_Latn', 'est_Latn', 'fin_Latn', 'fra_Latn', 'fuv_Latn', 'gle_Latn', 'glg_Latn', 'guj_Gujr', 'hau_Latn', 'heb_Hebr', 'hin_Deva', 'hrv_Latn', 'hun_Latn', 'hye_Armn', 'ibo_Latn', 'ind_Latn', 'isl_Latn', 'ita_Latn', 'jav_Latn', 'jpn_Jpan', 'kam_Latn', 'kan_Knda', 'kat_Geor', 'kaz_Cyrl', 'khm_Khmr', 'kir_Cyrl', 'kor_Hang', 'lao_Laoo', 'lij_Latn', 'lim_Latn', 'lin_Latn', 'lit_Latn', 'ltz_Latn', 'lug_Latn', 'luo_Latn', 'lvs_Latn', 'mal_Mlym', 'mar_Deva', 'mkd_Cyrl', 'mlt_Latn', 'khk_Cyrl', 'mri_Latn', 'mya_Mymr', 'nld_Latn', 'nob_Latn', 'npi_Deva', 'nso_Latn', 'nya_Latn', 'oci_Latn', 'gaz_Latn', 'ory_Orya', 'pan_Guru', 'pes_Arab', 'pol_Latn', 'por_Latn', 'pbt_Arab', 'ron_Latn', 'rus_Cyrl', 'slk_Latn', 'sna_Latn', 'snd_Arab', 'som_Latn', 'spa_Latn', 'srp_Cyrl', 'swe_Latn', 'swh_Latn', 'tam_Taml', 'tel_Telu', 'tgk_Cyrl', 'tgl_Latn', 'tha_Thai', 'tur_Latn', 'ukr_Cyrl', 'umb_Latn', 'urd_Arab', 'uzn_Latn', 'vie_Latn', 'wol_Latn', 'xho_Latn', 'yor_Latn', 'zho_Hans', 'zho_Hant', 'zsm_Latn', 'zul_Latn']\n",
      "102\n"
     ]
    }
   ],
   "source": [
    "def get_langues_code(file_langues):\n",
    "    dict_langues_code = json.load(open(file_langues))\n",
    "    l_langues, l_code = dict_langues_code.values(), dict_langues_code.keys()\n",
    "    df = pd.DataFrame({\"langues\": l_langues, \"code\": l_code})\n",
    "    langues = df.langues.to_list()[1:]\n",
    "    code = df.code.to_list()[1:]\n",
    "    return langues, code\n",
    "\n",
    "l_101, c_101 = get_langues_code(\"langues_101.json\")   \n",
    "print(l_101)\n",
    "print(len(l_101))\n",
    "print(c_101) \n",
    "print(len(c_101))"
   ]
  },
  {
   "cell_type": "code",
   "execution_count": 20,
   "metadata": {},
   "outputs": [
    {
     "name": "stdout",
     "output_type": "stream",
     "text": [
      "['ace_Arab', 'ace_Latn', 'acm_Arab', 'acq_Arab', 'aeb_Arab', 'afr_Latn', 'ajp_Arab', 'aka_Latn', 'amh_Ethi', 'apc_Arab', 'arb_Arab', 'arb_Latn', 'ars_Arab', 'ary_Arab', 'arz_Arab', 'asm_Beng', 'ast_Latn', 'awa_Deva', 'ayr_Latn', 'azb_Arab', 'azj_Latn', 'bak_Cyrl', 'bam_Latn', 'ban_Latn', 'bel_Cyrl', 'bem_Latn', 'ben_Beng', 'bho_Deva', 'bjn_Arab', 'bjn_Latn', 'bod_Tibt', 'bos_Latn', 'bug_Latn', 'bul_Cyrl', 'cat_Latn', 'ceb_Latn', 'ces_Latn', 'cjk_Latn', 'ckb_Arab', 'crh_Latn', 'cym_Latn', 'dan_Latn', 'deu_Latn', 'dik_Latn', 'dyu_Latn', 'dzo_Tibt', 'ell_Grek', 'eng_Latn', 'epo_Latn', 'est_Latn', 'eus_Latn', 'ewe_Latn', 'fao_Latn', 'fij_Latn', 'fin_Latn', 'fon_Latn', 'fra_Latn', 'fur_Latn', 'fuv_Latn', 'gla_Latn', 'gle_Latn', 'glg_Latn', 'grn_Latn', 'guj_Gujr', 'hat_Latn', 'hau_Latn', 'heb_Hebr', 'hin_Deva', 'hne_Deva', 'hrv_Latn', 'hun_Latn', 'hye_Armn', 'ibo_Latn', 'ilo_Latn', 'ind_Latn', 'isl_Latn', 'ita_Latn', 'jav_Latn', 'jpn_Jpan', 'kab_Latn', 'kac_Latn', 'kam_Latn', 'kan_Knda', 'kas_Arab', 'kas_Deva', 'kat_Geor', 'knc_Arab', 'knc_Latn', 'kaz_Cyrl', 'kbp_Latn', 'kea_Latn', 'khm_Khmr', 'kik_Latn', 'kin_Latn', 'kir_Cyrl', 'kmb_Latn', 'kmr_Latn', 'kon_Latn', 'kor_Hang', 'lao_Laoo', 'lij_Latn', 'lim_Latn', 'lin_Latn', 'lit_Latn', 'lmo_Latn', 'ltg_Latn', 'ltz_Latn', 'lua_Latn', 'lug_Latn', 'luo_Latn', 'lus_Latn', 'lvs_Latn', 'mag_Deva', 'mai_Deva', 'mal_Mlym', 'mar_Deva', 'min_Arab', 'min_Latn', 'mkd_Cyrl', 'plt_Latn', 'mlt_Latn', 'mni_Beng', 'khk_Cyrl', 'mos_Latn', 'mri_Latn', 'mya_Mymr', 'nld_Latn', 'nno_Latn', 'nob_Latn', 'npi_Deva', 'nso_Latn', 'nus_Latn', 'nya_Latn', 'oci_Latn', 'gaz_Latn', 'ory_Orya', 'pag_Latn', 'pan_Guru', 'pap_Latn', 'pes_Arab', 'pol_Latn', 'por_Latn', 'prs_Arab', 'pbt_Arab', 'quy_Latn', 'ron_Latn', 'run_Latn', 'rus_Cyrl', 'sag_Latn', 'san_Deva', 'sat_Olck', 'scn_Latn', 'shn_Mymr', 'sin_Sinh', 'slk_Latn', 'slv_Latn', 'smo_Latn', 'sna_Latn', 'snd_Arab', 'som_Latn', 'sot_Latn', 'spa_Latn', 'als_Latn', 'srd_Latn', 'srp_Cyrl', 'ssw_Latn', 'sun_Latn', 'swe_Latn', 'swh_Latn', 'szl_Latn', 'tam_Taml', 'tat_Cyrl', 'tel_Telu', 'tgk_Cyrl', 'tgl_Latn', 'tha_Thai', 'tir_Ethi', 'taq_Latn', 'taq_Tfng', 'tpi_Latn', 'tsn_Latn', 'tso_Latn', 'tuk_Latn', 'tum_Latn', 'tur_Latn', 'twi_Latn', 'tzm_Tfng', 'uig_Arab', 'ukr_Cyrl', 'umb_Latn', 'urd_Arab', 'uzn_Latn', 'vec_Latn', 'vie_Latn', 'war_Latn', 'wol_Latn', 'xho_Latn', 'ydd_Hebr', 'yor_Latn', 'yue_Hant', 'zho_Hans', 'zho_Hant', 'zsm_Latn', 'zul_Latn']\n",
      "204\n",
      "['Acehnese (Arabic script)', 'Acehnese (Latin script)', 'Mesopotamian Arabic ', 'Ta’izzi-Adeni Arabic ', 'Tunisian Arabic ', 'Afrikaans ', 'South Levantine Arabic ', 'Akan ', 'Amharic ', 'North Levantine Arabic ', 'Modern Standard Arabic ', 'Modern Standard Arabic (Romanized) ', 'Najdi Arabic ', 'Moroccan Arabic ', 'Egyptian Arabic ', 'Assamese ', 'Asturian ', 'Awadhi ', 'Central Aymara ', 'South Azerbaijani ', 'North Azerbaijani ', 'Bashkir ', 'Bambara ', 'Balinese ', 'Belarusian ', 'Bemba ', 'Bengali ', 'Bhojpuri ', 'Banjar (Arabic script) ', 'Banjar (Latin script) ', 'Standard Tibetan ', 'Bosnian ', 'Buginese ', 'Bulgarian ', 'Catalan ', 'Cebuano ', 'Czech ', 'Chokwe ', 'Central Kurdish ', 'Crimean Tatar ', 'Welsh ', 'Danish ', 'German ', 'Southwestern Dinka ', 'Dyula ', 'Dzongkha ', 'Greek ', 'English ', 'Esperanto ', 'Estonian ', 'Basque ', 'Ewe ', 'Faroese ', 'Fijian ', 'Finnish ', 'Fon ', 'French ', 'Friulian ', 'Nigerian Fulfulde ', 'Scottish Gaelic ', 'Irish ', 'Galician ', 'Guarani ', 'Gujarati ', 'Haitian Creole ', 'Hausa ', 'Hebrew ', 'Hindi ', 'Chhattisgarhi ', 'Croatian ', 'Hungarian ', 'Armenian ', 'Igbo ', 'Ilocano ', 'Indonesian ', 'Icelandic ', 'Italian ', 'Javanese ', 'Japanese ', 'Kabyle ', 'Jingpho ', 'Kamba ', 'Kannada ', 'Kashmiri (Arabic script) ', 'Kashmiri (Devanagari script) ', 'Georgian ', 'Central Kanuri (Arabic script) ', 'Central Kanuri (Latin script) ', 'Kazakh ', 'Kabiyè ', 'Kabuverdianu ', 'Khmer ', 'Kikuyu ', 'Kinyarwanda ', 'Kyrgyz ', 'Kimbundu ', 'Northern Kurdish ', 'Kikongo ', 'Korean ', 'Lao ', 'Ligurian ', 'Limburgish ', 'Lingala ', 'Lithuanian ', 'Lombard ', 'Latgalian ', 'Luxembourgish ', 'Luba-Kasai ', 'Ganda ', 'Luo ', 'Mizo ', 'Standard Latvian ', 'Magahi ', 'Maithili ', 'Malayalam ', 'Marathi ', 'Minangkabau (Arabic script) ', 'Minangkabau (Latin script) ', 'Macedonian ', 'Plateau Malagasy ', 'Maltese ', 'Meitei (Bengali script) ', 'Halh Mongolian ', 'Mossi ', 'Maori ', 'Burmese ', 'Dutch ', 'Norwegian Nynorsk ', 'Norwegian Bokmål ', 'Nepali ', 'Northern Sotho ', 'Nuer ', 'Nyanja ', 'Occitan ', 'West Central Oromo ', 'Odia ', 'Pangasinan ', 'Eastern Panjabi ', 'Papiamento ', 'Western Persian ', 'Polish ', 'Portuguese ', 'Dari ', 'Southern Pashto ', 'Ayacucho Quechua ', 'Romanian ', 'Rundi ', 'Russian ', 'Sango ', 'Sanskrit ', 'Santali ', 'Sicilian ', 'Shan ', 'Sinhala ', 'Slovak ', 'Slovenian ', 'Samoan ', 'Shona ', 'Sindhi ', 'Somali ', 'Southern Sotho ', 'Spanish ', 'Tosk Albanian ', 'Sardinian ', 'Serbian ', 'Swati ', 'Sundanese ', 'Swedish ', 'Swahili ', 'Silesian ', 'Tamil ', 'Tatar ', 'Telugu ', 'Tajik ', 'Tagalog ', 'Thai ', 'Tigrinya ', 'Tamasheq (Latin script) ', 'Tamasheq (Tifinagh script) ', 'Tok Pisin ', 'Tswana ', 'Tsonga ', 'Turkmen ', 'Tumbuka ', 'Turkish ', 'Twi ', 'Central Atlas Tamazight ', 'Uyghur ', 'Ukrainian ', 'Umbundu ', 'Urdu ', 'Northern Uzbek ', 'Venetian ', 'Vietnamese ', 'Waray ', 'Wolof ', 'Xhosa ', 'Eastern Yiddish ', 'Yoruba ', 'Yue Chinese ', 'Chinese (Simplified) ', 'Chinese (Traditional) ', 'Standard Malay ', 'Zulu ']\n",
      "204\n"
     ]
    }
   ],
   "source": [
    "def get_langues_code(file_langues):\n",
    "    dict_langues_code = json.load(open(file_langues))\n",
    "    l_langues, l_code = dict_langues_code.values(), dict_langues_code.keys()\n",
    "    df = pd.DataFrame({\"langues\": l_langues, \"code\": l_code})\n",
    "    langues = df.langues.to_list()[1:]\n",
    "    code = df.code.to_list()[1:]\n",
    "    return langues, code\n",
    "\n",
    "l_200, c_200 = get_langues_code(\"langues_200.json\")   \n",
    "print(l_200)\n",
    "print(len(l_200))\n",
    "print(c_200)\n",
    "print(len(c_200))"
   ]
  }
 ],
 "metadata": {
  "kernelspec": {
   "display_name": "exemple",
   "language": "python",
   "name": "python3"
  },
  "language_info": {
   "codemirror_mode": {
    "name": "ipython",
    "version": 3
   },
   "file_extension": ".py",
   "mimetype": "text/x-python",
   "name": "python",
   "nbconvert_exporter": "python",
   "pygments_lexer": "ipython3",
   "version": "3.8.10"
  },
  "orig_nbformat": 4
 },
 "nbformat": 4,
 "nbformat_minor": 2
}
